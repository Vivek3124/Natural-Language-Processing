{
 "cells": [
  {
   "cell_type": "code",
   "execution_count": 1,
   "id": "07cdf78f",
   "metadata": {},
   "outputs": [],
   "source": [
    "import numpy as np \n",
    "import pandas as pd\n",
    "import re\n",
    "import string\n",
    "from tensorflow import keras\n",
    "from sklearn.feature_extraction.text import TfidfVectorizer\n",
    "from sklearn.metrics import accuracy_score"
   ]
  },
  {
   "cell_type": "code",
   "execution_count": 191,
   "id": "42911c4f",
   "metadata": {},
   "outputs": [],
   "source": [
    "from sklearn.metrics import precision_score,recall_score,confusion_matrix"
   ]
  },
  {
   "cell_type": "code",
   "execution_count": 2,
   "id": "78561902",
   "metadata": {},
   "outputs": [
    {
     "data": {
      "text/html": [
       "<div>\n",
       "<style scoped>\n",
       "    .dataframe tbody tr th:only-of-type {\n",
       "        vertical-align: middle;\n",
       "    }\n",
       "\n",
       "    .dataframe tbody tr th {\n",
       "        vertical-align: top;\n",
       "    }\n",
       "\n",
       "    .dataframe thead th {\n",
       "        text-align: right;\n",
       "    }\n",
       "</style>\n",
       "<table border=\"1\" class=\"dataframe\">\n",
       "  <thead>\n",
       "    <tr style=\"text-align: right;\">\n",
       "      <th></th>\n",
       "      <th>Article</th>\n",
       "      <th>Class</th>\n",
       "    </tr>\n",
       "  </thead>\n",
       "  <tbody>\n",
       "    <tr>\n",
       "      <th>0</th>\n",
       "      <td>Ad sales boost Time Warner profit\\n\\nQuarterly...</td>\n",
       "      <td>business</td>\n",
       "    </tr>\n",
       "    <tr>\n",
       "      <th>1</th>\n",
       "      <td>Dollar gains on Greenspan speech\\n\\nThe dollar...</td>\n",
       "      <td>business</td>\n",
       "    </tr>\n",
       "    <tr>\n",
       "      <th>2</th>\n",
       "      <td>Yukos unit buyer faces loan claim\\n\\nThe owner...</td>\n",
       "      <td>business</td>\n",
       "    </tr>\n",
       "    <tr>\n",
       "      <th>3</th>\n",
       "      <td>High fuel prices hit BA's profits\\n\\nBritish A...</td>\n",
       "      <td>business</td>\n",
       "    </tr>\n",
       "    <tr>\n",
       "      <th>4</th>\n",
       "      <td>Pernod takeover talk lifts Domecq\\n\\nShares in...</td>\n",
       "      <td>business</td>\n",
       "    </tr>\n",
       "  </tbody>\n",
       "</table>\n",
       "</div>"
      ],
      "text/plain": [
       "                                             Article     Class\n",
       "0  Ad sales boost Time Warner profit\\n\\nQuarterly...  business\n",
       "1  Dollar gains on Greenspan speech\\n\\nThe dollar...  business\n",
       "2  Yukos unit buyer faces loan claim\\n\\nThe owner...  business\n",
       "3  High fuel prices hit BA's profits\\n\\nBritish A...  business\n",
       "4  Pernod takeover talk lifts Domecq\\n\\nShares in...  business"
      ]
     },
     "execution_count": 2,
     "metadata": {},
     "output_type": "execute_result"
    }
   ],
   "source": [
    "bbc_data = pd.read_csv(\"bbc.csv\")\n",
    "bbc_data.head()"
   ]
  },
  {
   "cell_type": "code",
   "execution_count": 3,
   "id": "e8b92ce7",
   "metadata": {},
   "outputs": [],
   "source": [
    "def clean_str(string):\n",
    "    \"\"\"\n",
    "    Tokenization/string cleaning for datasets.\n",
    "    \"\"\"\n",
    "    string = re.sub(r\"\\'s\", \"\", string)\n",
    "    string = re.sub(r\"\\'ve\", \"\", string)\n",
    "    string = re.sub(r\"n\\'t\", \"\", string)\n",
    "    string = re.sub(r\"\\'re\", \"\", string)\n",
    "    string = re.sub(r\"\\'d\", \"\", string)\n",
    "    string = re.sub(r\"\\'ll\", \"\", string)\n",
    "    string = re.sub(r\",\", \"\", string)\n",
    "    string = re.sub(r\"!\", \" ! \", string)\n",
    "    string = re.sub(r\"\\(\", \"\", string)\n",
    "    string = re.sub(r\"\\)\", \"\", string)\n",
    "    string = re.sub(r\"\\?\", \"\", string)\n",
    "    string = re.sub(r\"'\", \"\", string)\n",
    "    string = re.sub(r\"[^A-Za-z0-9(),!?\\'\\`]\", \" \", string)\n",
    "    string = re.sub(r\"[0-9]\\w+|[0-9]\",\"\", string)\n",
    "    string = re.sub(r\"\\s{2,}\", \" \", string)\n",
    "    return string.strip().lower()"
   ]
  },
  {
   "cell_type": "code",
   "execution_count": 4,
   "id": "5aedb129",
   "metadata": {},
   "outputs": [],
   "source": [
    "i = 0\n",
    "articles = []\n",
    "for article in bbc_data['Article']:\n",
    "    article = clean_str(article)\n",
    "    bbc_data[\"Article\"][i] = article\n",
    "    i += 1"
   ]
  },
  {
   "cell_type": "code",
   "execution_count": 5,
   "id": "6ec5b326",
   "metadata": {},
   "outputs": [
    {
     "data": {
      "text/plain": [
       "business         510\n",
       "politics         417\n",
       "tech             401\n",
       "entertainment    386\n",
       "sport            198\n",
       "Name: Class, dtype: int64"
      ]
     },
     "execution_count": 5,
     "metadata": {},
     "output_type": "execute_result"
    }
   ],
   "source": [
    "bbc_data[\"Class\"].value_counts()"
   ]
  },
  {
   "cell_type": "code",
   "execution_count": 168,
   "id": "7ab9b1fa",
   "metadata": {},
   "outputs": [
    {
     "data": {
      "text/html": [
       "<div>\n",
       "<style scoped>\n",
       "    .dataframe tbody tr th:only-of-type {\n",
       "        vertical-align: middle;\n",
       "    }\n",
       "\n",
       "    .dataframe tbody tr th {\n",
       "        vertical-align: top;\n",
       "    }\n",
       "\n",
       "    .dataframe thead th {\n",
       "        text-align: right;\n",
       "    }\n",
       "</style>\n",
       "<table border=\"1\" class=\"dataframe\">\n",
       "  <thead>\n",
       "    <tr style=\"text-align: right;\">\n",
       "      <th></th>\n",
       "      <th>Article</th>\n",
       "      <th>Class</th>\n",
       "      <th>Class_id</th>\n",
       "    </tr>\n",
       "  </thead>\n",
       "  <tbody>\n",
       "    <tr>\n",
       "      <th>0</th>\n",
       "      <td>ad sales boost time warner profit quarterly pr...</td>\n",
       "      <td>business</td>\n",
       "      <td>0</td>\n",
       "    </tr>\n",
       "    <tr>\n",
       "      <th>1</th>\n",
       "      <td>dollar gains on greenspan speech the dollar ha...</td>\n",
       "      <td>business</td>\n",
       "      <td>0</td>\n",
       "    </tr>\n",
       "    <tr>\n",
       "      <th>2</th>\n",
       "      <td>yukos unit buyer faces loan claim the owners o...</td>\n",
       "      <td>business</td>\n",
       "      <td>0</td>\n",
       "    </tr>\n",
       "    <tr>\n",
       "      <th>3</th>\n",
       "      <td>high fuel prices hit ba profits british airway...</td>\n",
       "      <td>business</td>\n",
       "      <td>0</td>\n",
       "    </tr>\n",
       "    <tr>\n",
       "      <th>4</th>\n",
       "      <td>pernod takeover talk lifts domecq shares in uk...</td>\n",
       "      <td>business</td>\n",
       "      <td>0</td>\n",
       "    </tr>\n",
       "  </tbody>\n",
       "</table>\n",
       "</div>"
      ],
      "text/plain": [
       "                                             Article     Class  Class_id\n",
       "0  ad sales boost time warner profit quarterly pr...  business         0\n",
       "1  dollar gains on greenspan speech the dollar ha...  business         0\n",
       "2  yukos unit buyer faces loan claim the owners o...  business         0\n",
       "3  high fuel prices hit ba profits british airway...  business         0\n",
       "4  pernod takeover talk lifts domecq shares in uk...  business         0"
      ]
     },
     "execution_count": 168,
     "metadata": {},
     "output_type": "execute_result"
    }
   ],
   "source": [
    "encode = {\n",
    "    \"business\" : 0,\n",
    "    \"politics\"  : 1,       \n",
    "    \"tech\" : 2,    \n",
    "    \"entertainment\" : 3,     \n",
    "    \"sport\"  : 4\n",
    "}\n",
    "bbc_data[\"Class_id\"] = bbc_data[\"Class\"].apply(lambda x: encode[x])\n",
    "article_labels = bbc_data['Class_id'].values\n",
    "bbc_data.head()"
   ]
  },
  {
   "cell_type": "code",
   "execution_count": 166,
   "id": "1a493e66",
   "metadata": {},
   "outputs": [
    {
     "name": "stdout",
     "output_type": "stream",
     "text": [
      "(1912, 5130)\n"
     ]
    }
   ],
   "source": [
    "vectorizer = TfidfVectorizer(sublinear_tf=True, min_df=10)\n",
    "article_vec = vectorizer.fit_transform(bbc_data['Article']).toarray()\n",
    "print(article_vec.shape)"
   ]
  },
  {
   "cell_type": "code",
   "execution_count": 186,
   "id": "2e2fc1f9",
   "metadata": {},
   "outputs": [],
   "source": [
    "# creating an array of class labels of articles\n",
    "class_articles = article_labels\n",
    "\n",
    "# randomly suffling articles and their class labels\n",
    "rows = article_vec.shape[0]\n",
    "\n",
    "indices = np.arange(rows)\n",
    "np.random.shuffle(indices)\n",
    "articles = article_vec[indices]\n",
    "class_articles = class_articles[indices]\n",
    "\n",
    "num_training_samples = int(0.7 * rows)\n",
    "num_validation_samples = int(0.1 * rows)\n",
    "\n",
    "X_train = articles[:num_training_samples]\n",
    "y_train = class_articles[:num_training_samples]\n",
    "\n",
    "mark = (num_training_samples+num_validation_samples)\n",
    "\n",
    "X_val = articles[num_training_samples:mark]\n",
    "y_val = class_articles[num_training_samples:mark]\n",
    "\n",
    "X_test = articles[mark:]\n",
    "y_test = class_articles[mark:]"
   ]
  },
  {
   "cell_type": "code",
   "execution_count": 187,
   "id": "3b3cebdc",
   "metadata": {},
   "outputs": [
    {
     "name": "stdout",
     "output_type": "stream",
     "text": [
      "Shape of X_train: (1338, 5130)\n",
      "Shape of y_train: (1338,)\n",
      "Shape of X_val: (191, 5130)\n",
      "Shape of y_val: (191,)\n",
      "Shape of X_test: (383, 5130)\n",
      "Shape of y_test: (383,)\n"
     ]
    }
   ],
   "source": [
    "print('Shape of X_train:', X_train.shape)\n",
    "print('Shape of y_train:', y_train.shape)\n",
    "\n",
    "print('Shape of X_val:', X_val.shape)\n",
    "print('Shape of y_val:', y_val.shape)\n",
    "\n",
    "print('Shape of X_test:', X_test.shape)\n",
    "print('Shape of y_test:', y_test.shape)"
   ]
  },
  {
   "cell_type": "code",
   "execution_count": 159,
   "id": "ee76ee3d",
   "metadata": {},
   "outputs": [],
   "source": [
    "optimizers = ['SGD','Adam','Adamax']\n",
    "activation_func = ['tanh','relu']\n",
    "op_actv_func = ['sigmoid','softmax']"
   ]
  },
  {
   "cell_type": "code",
   "execution_count": 188,
   "id": "4cfb2e45",
   "metadata": {},
   "outputs": [],
   "source": [
    "models = []\n",
    "for opt in optimizers:\n",
    "    for a_f in activation_func:\n",
    "        for o_a_f in op_actv_func:\n",
    "            model = keras.models.Sequential([\n",
    "              keras.layers.Dense(20, activation=a_f, input_shape=(X_train.shape[1],)),\n",
    "              keras.layers.Dense(20, activation=a_f),  \n",
    "              keras.layers.Dense(5, activation=o_a_f),\n",
    "            ])\n",
    "            model.compile(loss='sparse_categorical_crossentropy', optimizer=opt, metrics=['accuracy'])\n",
    "            models.append(model)"
   ]
  },
  {
   "cell_type": "code",
   "execution_count": 189,
   "id": "f73cf3a5",
   "metadata": {},
   "outputs": [
    {
     "name": "stdout",
     "output_type": "stream",
     "text": [
      "For Optimization Function: SGD\n",
      "\n",
      "\tActivation Function at hidden layers: tanh\n",
      "\n",
      "\t\tActivation Function at output layer: sigmoid\n",
      "\t\tTest Accuracy 84.59530026109661\n",
      "\t\tTest precision 68.54377950655939\n",
      "\t\tTest recall 74.7400725025257\n",
      "\n",
      "\t\tActivation Function at output layer: softmax\n"
     ]
    },
    {
     "name": "stderr",
     "output_type": "stream",
     "text": [
      "C:\\Users\\vivek\\anaconda3\\lib\\site-packages\\sklearn\\metrics\\_classification.py:1245: UndefinedMetricWarning: Precision is ill-defined and being set to 0.0 in labels with no predicted samples. Use `zero_division` parameter to control this behavior.\n",
      "  _warn_prf(average, modifier, msg_start, len(result))\n"
     ]
    },
    {
     "name": "stdout",
     "output_type": "stream",
     "text": [
      "\t\tTest Accuracy 86.16187989556136\n",
      "\t\tTest precision 68.94607768623516\n",
      "\t\tTest recall 76.30260890235931\n",
      "\n",
      "\tActivation Function at hidden layers: relu\n",
      "\n",
      "\t\tActivation Function at output layer: sigmoid\n"
     ]
    },
    {
     "name": "stderr",
     "output_type": "stream",
     "text": [
      "C:\\Users\\vivek\\anaconda3\\lib\\site-packages\\sklearn\\metrics\\_classification.py:1245: UndefinedMetricWarning: Precision is ill-defined and being set to 0.0 in labels with no predicted samples. Use `zero_division` parameter to control this behavior.\n",
      "  _warn_prf(average, modifier, msg_start, len(result))\n"
     ]
    },
    {
     "name": "stdout",
     "output_type": "stream",
     "text": [
      "\t\tTest Accuracy 81.98433420365535\n",
      "\t\tTest precision 65.22271538610254\n",
      "\t\tTest recall 71.96034544322275\n",
      "\n",
      "\t\tActivation Function at output layer: softmax\n"
     ]
    },
    {
     "name": "stderr",
     "output_type": "stream",
     "text": [
      "C:\\Users\\vivek\\anaconda3\\lib\\site-packages\\sklearn\\metrics\\_classification.py:1245: UndefinedMetricWarning: Precision is ill-defined and being set to 0.0 in labels with no predicted samples. Use `zero_division` parameter to control this behavior.\n",
      "  _warn_prf(average, modifier, msg_start, len(result))\n"
     ]
    },
    {
     "name": "stdout",
     "output_type": "stream",
     "text": [
      "\t\tTest Accuracy 79.89556135770235\n",
      "\t\tTest precision 65.58476150941902\n",
      "\t\tTest recall 71.20684174543413\n",
      "For Optimization Function: Adam\n",
      "\n",
      "\tActivation Function at hidden layers: tanh\n",
      "\n",
      "\t\tActivation Function at output layer: sigmoid\n"
     ]
    },
    {
     "name": "stderr",
     "output_type": "stream",
     "text": [
      "C:\\Users\\vivek\\anaconda3\\lib\\site-packages\\sklearn\\metrics\\_classification.py:1245: UndefinedMetricWarning: Precision is ill-defined and being set to 0.0 in labels with no predicted samples. Use `zero_division` parameter to control this behavior.\n",
      "  _warn_prf(average, modifier, msg_start, len(result))\n"
     ]
    },
    {
     "name": "stdout",
     "output_type": "stream",
     "text": [
      "\t\tTest Accuracy 96.60574412532638\n",
      "\t\tTest precision 96.8944959452206\n",
      "\t\tTest recall 96.72596811946386\n",
      "\n",
      "\t\tActivation Function at output layer: softmax\n",
      "\t\tTest Accuracy 97.12793733681463\n",
      "\t\tTest precision 97.34497965750549\n",
      "\t\tTest recall 97.35942225704687\n",
      "\n",
      "\tActivation Function at hidden layers: relu\n",
      "\n",
      "\t\tActivation Function at output layer: sigmoid\n",
      "\t\tTest Accuracy 96.8668407310705\n",
      "\t\tTest precision 97.31382113821138\n",
      "\t\tTest recall 97.0627086420234\n",
      "\n",
      "\t\tActivation Function at output layer: softmax\n",
      "\t\tTest Accuracy 96.8668407310705\n",
      "\t\tTest precision 97.22515371721417\n",
      "\t\tTest recall 97.16282944627308\n",
      "For Optimization Function: Adamax\n",
      "\n",
      "\tActivation Function at hidden layers: tanh\n",
      "\n",
      "\t\tActivation Function at output layer: sigmoid\n",
      "\t\tTest Accuracy 96.8668407310705\n",
      "\t\tTest precision 97.30301032740056\n",
      "\t\tTest recall 97.07773211620182\n",
      "\n",
      "\t\tActivation Function at output layer: softmax\n",
      "\t\tTest Accuracy 97.12793733681463\n",
      "\t\tTest precision 97.42455266707071\n",
      "\t\tTest recall 97.32937530869008\n",
      "\n",
      "\tActivation Function at hidden layers: relu\n",
      "\n",
      "\t\tActivation Function at output layer: sigmoid\n",
      "\t\tTest Accuracy 97.12793733681463\n",
      "\t\tTest precision 97.41167979573777\n",
      "\t\tTest recall 97.24579934309257\n",
      "\n",
      "\t\tActivation Function at output layer: softmax\n",
      "\t\tTest Accuracy 96.60574412532638\n",
      "\t\tTest precision 97.02869991570573\n",
      "\t\tTest recall 96.69744253558082\n"
     ]
    }
   ],
   "source": [
    "i = 0\n",
    "for opt in optimizers:\n",
    "    print(\"For Optimization Function:\",opt)\n",
    "    for a_f in activation_func:\n",
    "        print(\"\\n\\tActivation Function at hidden layers:\",a_f)\n",
    "        for o_a_f in op_actv_func:\n",
    "            print(\"\\n\\t\\tActivation Function at output layer:\",o_a_f)\n",
    "            model = models[i]\n",
    "            model.fit(X_train, y_train, epochs=50, validation_data=(X_val, y_val), verbose = 0)\n",
    "            y_pred = model.predict(X_test)\n",
    "            Y_pred = []\n",
    "            for pred in y_pred:\n",
    "                Y_pred.append(np.where(pred == np.max(pred))[0][0])\n",
    "            print(\"\\t\\tTest Accuracy\",100*accuracy_score(y_test, Y_pred))\n",
    "            print(\"\\t\\tTest precision\",100*precision_score(y_test, Y_pred,average='macro'))\n",
    "            print(\"\\t\\tTest recall\",100*recall_score(y_test, Y_pred,average='macro'))\n",
    "            i+=1"
   ]
  },
  {
   "cell_type": "code",
   "execution_count": 208,
   "id": "8689850f",
   "metadata": {},
   "outputs": [
    {
     "name": "stdout",
     "output_type": "stream",
     "text": [
      "\n",
      "Class-wise accuracy:\n",
      "\n",
      "\t business\n",
      "\t\t 97.53086419753086 \n",
      "\n",
      "\t politics\n",
      "\t\t 98.62068965517241 \n",
      "\n",
      "\t tech\n",
      "\t\t 98.4375 \n",
      "\n",
      "\t entertainment\n",
      "\t\t 96.26865671641791 \n",
      "\n",
      "\t sport\n",
      "\t\t 98.55072463768116 \n",
      "\n",
      "\n",
      "Class-wise accuracy:\n",
      "\n",
      "\t business\n",
      "\t\t 95.65217391304348 \n",
      "\n",
      "\t politics\n",
      "\t\t 97.12230215827338 \n",
      "\n",
      "\t tech\n",
      "\t\t 97.72727272727273 \n",
      "\n",
      "\t entertainment\n",
      "\t\t 95.04132231404958 \n",
      "\n",
      "\t sport\n",
      "\t\t 100.0 \n",
      "\n",
      "\n",
      "Class-wise accuracy:\n",
      "\n",
      "\t business\n",
      "\t\t 95.73170731707317 \n",
      "\n",
      "\t politics\n",
      "\t\t 96.2406015037594 \n",
      "\n",
      "\t tech\n",
      "\t\t 95.74468085106383 \n",
      "\n",
      "\t entertainment\n",
      "\t\t 98.47328244274809 \n",
      "\n",
      "\t sport\n",
      "\t\t 100.0 \n",
      "\n",
      "Overall 3-Fold Accuracy: 97.12307397036462\n"
     ]
    }
   ],
   "source": [
    "kfold = KFold(n_splits=3,shuffle=True,random_state=1)\n",
    "Accuracy = []\n",
    "\n",
    "for train,test in kfold.split(article_vec):\n",
    "    X_train,X_test,Y_train,Y_test = article_vec[train],article_vec[test],article_labels[train],article_labels[test]\n",
    "    model = keras.models.Sequential([\n",
    "              keras.layers.Dense(20, activation='relu', input_shape=(X_train.shape[1],)),\n",
    "              keras.layers.Dense(20, activation='relu'),  \n",
    "              keras.layers.Dense(5, activation='softmax'),\n",
    "            ])\n",
    "    model.compile(loss='sparse_categorical_crossentropy', optimizer='adam', metrics=['accuracy'])    \n",
    "    model.fit(X_train, Y_train, epochs=5, verbose = 0)\n",
    "    y_pred = model.predict(X_test)\n",
    "    Y_pred = []\n",
    "    for pred in y_pred:\n",
    "        Y_pred.append(np.where(pred == np.max(pred))[0][0])\n",
    "    Accuracy.append(accuracy_score(Y_test, Y_pred))\n",
    "    cm = confusion_matrix(Y_test, Y_pred, labels = [0,1,2,3,4])\n",
    "    print(\"\\nClass-wise accuracy:\\n\")\n",
    "    for cls in encode:\n",
    "        key = encode[cls]\n",
    "        print(\"\\t\",cls)\n",
    "        print(\"\\t\\t\",100*cm[key,key]/sum(cm[key]),\"\\n\")\n",
    "    \n",
    "print(\"Overall 3-Fold Accuracy:\",100*np.sum(Accuracy)/3)"
   ]
  }
 ],
 "metadata": {
  "kernelspec": {
   "display_name": "Python 3",
   "language": "python",
   "name": "python3"
  },
  "language_info": {
   "codemirror_mode": {
    "name": "ipython",
    "version": 3
   },
   "file_extension": ".py",
   "mimetype": "text/x-python",
   "name": "python",
   "nbconvert_exporter": "python",
   "pygments_lexer": "ipython3",
   "version": "3.8.8"
  }
 },
 "nbformat": 4,
 "nbformat_minor": 5
}
